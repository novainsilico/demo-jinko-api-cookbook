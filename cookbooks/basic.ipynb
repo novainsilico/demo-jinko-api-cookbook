{
 "cells": [
  {
   "cell_type": "markdown",
   "id": "97de1512",
   "metadata": {},
   "source": [
    "# Title\n",
    "\n",
    "## Introduction\n",
    "\n",
    "This cookbook is a model for new cookbook. Please update this short introduction to this cookbook.\n",
    "\n",
    "\n",
    "Linked resources: \n",
    "- [Folder on jinko](https://jinko.ai/project/xxx)."
   ]
  },
  {
   "cell_type": "code",
   "execution_count": null,
   "id": "f4a8a8c1",
   "metadata": {},
   "outputs": [],
   "source": [
    "# Jinko specifics imports & initialization\n",
    "# Please fold this section and do not change\n",
    "import jinko_helpers as jinko\n",
    "\n",
    "# Connect to Jinko (see README.md for more options)\n",
    "\n",
    "jinko.initialize()"
   ]
  },
  {
   "cell_type": "code",
   "execution_count": null,
   "id": "b8a8364c",
   "metadata": {},
   "outputs": [],
   "source": [
    "# Cookbook specifics imports\n",
    "\n",
    "import json\n",
    "\n",
    "\n",
    "# Cookbook specifics constants:\n",
    "# put here the constants that are specific to your cookbook like\n",
    "# the reference to the Jinko items, the name of the model, etc.\n",
    "\n",
    "trialId = \"tr-xxxx-xxxx\""
   ]
  },
  {
   "cell_type": "markdown",
   "id": "cb7a6106",
   "metadata": {},
   "source": [
    "# Step 1: lorem ipsum"
   ]
  }
 ],
 "metadata": {
  "kernelspec": {
   "display_name": "Python 3 (ipykernel)",
   "language": "python",
   "name": "python3"
  },
  "language_info": {
   "codemirror_mode": {
    "name": "ipython",
    "version": 3
   },
   "file_extension": ".py",
   "mimetype": "text/x-python",
   "name": "python",
   "nbconvert_exporter": "python",
   "pygments_lexer": "ipython3",
   "version": "3.12.5"
  }
 },
 "nbformat": 4,
 "nbformat_minor": 5
}
